{
 "cells": [
  {
   "attachments": {},
   "cell_type": "markdown",
   "metadata": {},
   "source": [
    "# Fine-Tune Llama 3.1 405B on a single Node with PyTorch FSDP and Q-LoRA.\n",
    "\n",
    "The release of [Llama 3.1 405B](https://huggingface.co/meta-llama/Meta-Llama-3.1-405B) marks a significant change in the landscape of large language models, setting a new benchmark for performance in general knowledge, reasoning, and multilingual tasks. As Meta's largest open-source model, Llama 3.1 405B competes directly with proprietary models like GPT-4 and Claude 3.5 Sonnet, offering frontier-level capabilities at a more accessible price point.\n",
    "\n",
    "This blog post will guide you through the process of fine-tuning Llama 3.1 405B using PyTorch FSDP and Q-LoRA, supported by Hugging Face's [TRL](https://huggingface.co/docs/trl/index), [Transformers](https://huggingface.co/docs/transformers/index), [peft](https://huggingface.co/docs/peft/index) & [datasets](https://huggingface.co/docs/datasets/index). We will also integrate [Flash Attention v2](https://github.com/Dao-AILab/flash-attention) for enhanced performance.\n",
    "\n",
    "1. **Setup development environment**\n",
    "2. **Create and prepare the dataset**\n",
    "3. **Fine-tune the LLM with PyTorch FSDP, Q-LoRA, and SDPA**\n",
    "4. **Test Model and run Inference**\n",
    "\n",
    "_Note: This example is optimized for NVIDIA H100 and A100 GPUs. Adjustments can be made for different hardware configurations._ \n",
    "\n",
    "**Background on FSDP and Q-LoRA**\n",
    "\n",
    "FSDP enables efficient model sharding across GPUs, allowing the training of large models like Llama 3.1 405B. Q-LoRA reduces computational and memory requirements by combining quantization and low-rank adaptation. This collaboration between [Answer.AI](https://www.answer.ai/posts/2024-03-06-fsdp-qlora.html), [Tim Dettmers](https://github.com/TimDettmers/bitsandbytes), and [Hugging Face](https://huggingface.co/).\n",
    "\n",
    "For more details on these techniques, refer to the following resources:\n",
    "\n",
    "* [PyTorch FSDP](https://pytorch.org/blog/introducing-pytorch-fully-sharded-data-parallel-api/) is a data/model parallelism technique that shards model across GPUs, reducing memory requirements and enabling the training of larger models more efficiently​​​​​​.\n",
    "* Q-LoRA is a fine-tuning method that leverages quantization and Low-Rank Adapters to efficiently reduced computational requirements and memory footprint. \n"
   ]
  },
  {
   "cell_type": "markdown",
   "metadata": {},
   "source": [
    "## 1. Setup development environment\n",
    "\n",
    "Our first step is to install Hugging Face Libraries and Pyroch, including trl, transformers and datasets. If you haven't heard of trl yet, don't worry. It is a new library on top of transformers and datasets, which makes it easier to fine-tune, rlhf, align open LLMs. "
   ]
  },
  {
   "cell_type": "code",
   "execution_count": null,
   "metadata": {},
   "outputs": [],
   "source": [
    "# Install Pytorch for FSDP and FA/SDPA\n",
    "%pip install \"torch==2.4.0\" tensorboard\n",
    "# Install Hugging Face libraries\n",
    "%pip install  --upgrade \"transformers==4.44.0\" \"datasets==2.21.0\" \"accelerate==0.33.0\" \"evaluate==0.4.1\" \"bitsandbytes==0.43.3\" \"huggingface_hub==0.24.2\" \"trl==0.9.6\" \"peft==0.12.0\" \"hf_transfer==0.1.8\" \"flash-attn==2.6.3\"\n",
    "# if your are running on AWS cluster you might need to update the nccl version\n",
    "%pip install nvidia-nccl-cu12==2.22.3 --upgrade\n",
    "\n",
    "# Install transformers from git commit to support pre-quantized weights\n",
    "%pip install git+https://github.com/huggingface/transformers.git@c409cd81777fb27aadc043ed3d8339dbc020fb3b"
   ]
  },
  {
   "cell_type": "markdown",
   "metadata": {},
   "source": [
    "Next we need to login into Hugging Face to access the Llama 3.1 405b model. If you don't have an account yet and [accepted the terms](https://huggingface.co/meta-llama/Meta-Llama-3.1-405B), you can create one [here](https://huggingface.co/join). "
   ]
  },
  {
   "cell_type": "code",
   "execution_count": null,
   "metadata": {},
   "outputs": [],
   "source": [
    "!huggingface-cli login --token \"\""
   ]
  },
  {
   "cell_type": "markdown",
   "metadata": {},
   "source": [
    "## 2. Create and prepare the dataset\n",
    "\n",
    "After our environment is set up, we can start creating and preparing our dataset. A fine-tuning dataset should have a diverse set of demonstrations of the task you want to solve. If you want to learn more about how to create a dataset, take a look at the [How to Fine-Tune LLMs in 2024 with Hugging Face](https://www.philschmid.de/fine-tune-llms-in-2024-with-trl#3-create-and-prepare-the-dataset).\n",
    "\n",
    "We will use the [HuggingFaceH4/no_robots](https://huggingface.co/datasets/HuggingFaceH4/no_robots) dataset a high-quality dataset of 10,000 instructions and demonstrations created by skilled human annotators. This data can be used for supervised fine-tuning (SFT) to make language models follow instructions better. No Robots was modelled after the instruction dataset described in OpenAI's [InstructGPT paper](https://huggingface.co/papers/2203.02155), and is comprised mostly of single-turn instructions.\n",
    "\n",
    "```json\n",
    "{\"messages\": [{\"role\": \"system\", \"content\": \"You are...\"}, {\"role\": \"user\", \"content\": \"...\"}, {\"role\": \"assistant\", \"content\": \"...\"}]}\n",
    "{\"messages\": [{\"role\": \"system\", \"content\": \"You are...\"}, {\"role\": \"user\", \"content\": \"...\"}, {\"role\": \"assistant\", \"content\": \"...\"}]}\n",
    "{\"messages\": [{\"role\": \"system\", \"content\": \"You are...\"}, {\"role\": \"user\", \"content\": \"...\"}, {\"role\": \"assistant\", \"content\": \"...\"}]}\n",
    "```\n",
    "\n",
    "The [no_robots](https://huggingface.co/datasets/HuggingFaceH4/no_robots) dataset has 10,000 split into 9,500 training and  500 test examples. Some samples are not including a `system` message. We will load the dataset with the `datasets` library, add a missing `system` message and save them to separate json files."
   ]
  },
  {
   "cell_type": "code",
   "execution_count": null,
   "metadata": {},
   "outputs": [],
   "source": [
    "from datasets import load_dataset\n",
    "\n",
    "# Convert dataset to OAI messages\n",
    "system_message = \"\"\"You are Llama, an AI assistant created by Philipp to be helpful and honest. Your knowledge spans a wide range of topics, allowing you to engage in substantive conversations and provide analysis on complex subjects.\"\"\"\n",
    "\n",
    "def create_conversation(sample):\n",
    "    if sample[\"messages\"][0][\"role\"] == \"system\":\n",
    "        return sample\n",
    "    else:\n",
    "      sample[\"messages\"] = [{\"role\": \"system\", \"content\": system_message}] + sample[\"messages\"]\n",
    "      return sample\n",
    "\n",
    "# Load dataset from the hub\n",
    "dataset = load_dataset(\"HuggingFaceH4/no_robots\")\n",
    "\n",
    "# Add system message to each conversation\n",
    "columns_to_remove = list(dataset[\"train\"].features)\n",
    "columns_to_remove.remove(\"messages\")\n",
    "dataset = dataset.map(create_conversation, remove_columns=columns_to_remove,batched=False)\n",
    "\n",
    "# Filter out conversations which are corrupted with wrong turns, keep which have even number of turns after adding system message\n",
    "dataset[\"train\"] = dataset[\"train\"].filter(lambda x: len(x[\"messages\"][1:]) % 2 == 0)\n",
    "dataset[\"test\"] = dataset[\"test\"].filter(lambda x: len(x[\"messages\"][1:]) % 2 == 0)\n",
    "\n",
    "# save datasets to disk \n",
    "dataset[\"train\"].to_json(\"train_dataset.json\", orient=\"records\", force_ascii=False)\n",
    "dataset[\"test\"].to_json(\"test_dataset.json\", orient=\"records\", force_ascii=False)"
   ]
  },
  {
   "attachments": {},
   "cell_type": "markdown",
   "metadata": {},
   "source": [
    "## 3. Fine-tune Llama 405B with PyTorch FSDP, Q-Lora and SDPA\n",
    "\n",
    "We are now ready to fine-tune our model with PyTorch FSDP, Q-Lora and SDPA. Since we are running in a distributed setup, we need to use `torchrun` and a python script to start the training. \n",
    "\n",
    "We prepared a script [run_fsdp_qlora.py](./scripts/run_fsdp_qlora.py) which will load the dataset from disk, prepare the model, tokenizer and start the training. It usees the [SFTTrainer](https://huggingface.co/docs/trl/sft_trainer) from `trl` to fine-tune our model. The `SFTTrainer` makes it straightfoward to supervise fine-tune open LLMs supporting:\n",
    "* Dataset formatting, including conversational and instruction format (✅ used)\n",
    "* Training on completions only, ignoring prompts (❌ not used)\n",
    "* Packing datasets for more efficient training (✅ used)\n",
    "* PEFT (parameter-efficient fine-tuning) support including Q-LoRA (✅ used)\n",
    "* Preparing the model and tokenizer for conversational fine-tuning (❌ not used, see below)\n",
    "\n",
    "_Note: We are using an Anthropic/Vicuna like Chat Template with `User:` and `Assistant:` roles. This done because the special tokens in base Llama 3 (`<|begin_of_text|>` or `<|reserved_special_token_XX|>`) are not trained. Meaning if want would like to use them for the template we need to train them which requires more memory, since we need to update the embedding layer and lm_head. If you have access to more compute you can modify `LLAMA_3_CHAT_TEMPLATE` in the [run_fsdp_qlora.py](./scripts/run_fsdp_qlora.py) script._\n",
    "\n",
    "For configuration we use the new `TrlParser`, that allows us to provide hyperparameters in a yaml file or overwrite the arguments from the config file by explicitly passing them to the CLI, e.g. `--num_epochs 10`.\n",
    "\n",
    "_Note: The config below is optimized for 8x H100 80GBs, you can also fine-tune Llama 3.1 405B on 4x H100. Therefore change the `per_device_train_batch_size` to `2`. With a `max_seq_len` of `2048` this should lead to ~64GB per GPU._ \n",
    "\n",
    "**Pre-quantize Llama 3.1 405B**\n",
    "\n",
    "We are using the [pre-quantized version of Llama 3.1 405B](hugging-quants/Meta-Llama-3.1-70B-BNB-NF4-BF16), which is already pre-quantized using `bitsandbytes`. When you fine-tune a model with Q-LoRA thats not pre-quantized `bitsandbytes` will first quantize the model and then start the training process. By using the pre-quantized model we can save time as the model is significant smaller to download and to load on the GPU. You can learn more about pre-quantizing models with `bitsandbytes` in the [bitsandbytes documentation](). \n",
    "\n",
    "\n",
    "**Tested Hardware Configurations:**  \n",
    "✅ 4x H100 80GB with ~900GB CPU RAM  \n",
    "✅ 8x H100 80GB with ~1.5TB CPU RAM  \n",
    "❌ 8x L40 48GB _(might work but not tested)._  "
   ]
  },
  {
   "cell_type": "code",
   "execution_count": null,
   "metadata": {},
   "outputs": [],
   "source": [
    "%%writefile llama_31_405b_fsdp_qlora.yaml\n",
    "# script parameters\n",
    "# model_id: \"meta-llama/Meta-Llama-3.1-405B\" # Hugging Face model id\n",
    "model_id: \"hugging-quants/Meta-Llama-3.1-405B-BNB-NF4-BF16\" # Hugging Face model id\n",
    "dataset_path: \".\"                      # path to dataset\n",
    "max_seq_len:  2048                     # max sequence length for model and packing of the dataset\n",
    "# training parameters\n",
    "output_dir: \"./llama-31-405b-hf-no-robot\" # Temporary output directory for model checkpoints\n",
    "report_to: \"tensorboard\"               # report metrics to tensorboard\n",
    "learning_rate: 2.0e-4                  # learning rate 2.0e-4\n",
    "lr_scheduler_type: \"constant\"          # learning rate scheduler\n",
    "num_train_epochs: 3                    # number of training epochs\n",
    "per_device_train_batch_size: 2         # batch size per device during training\n",
    "per_device_eval_batch_size: 1          # batch size for evaluation\n",
    "gradient_accumulation_steps: 4         # number of steps before performing a backward/update pass\n",
    "optim: adamw_torch                     # use torch adamw optimizer\n",
    "logging_steps: 10                      # log every 10 steps\n",
    "save_strategy: epoch                   # save checkpoint every epoch\n",
    "eval_strategy: epoch                   # evaluate every epoch\n",
    "max_grad_norm: 0.3                     # max gradient norm\n",
    "warmup_ratio: 0.03                     # warmup ratio\n",
    "bf16: true                             # use bfloat16 precision\n",
    "tf32: true                             # use tf32 precision\n",
    "gradient_checkpointing: true           # we use activation_checkpointing instead"
   ]
  },
  {
   "cell_type": "markdown",
   "metadata": {},
   "source": [
    "_Note: At the end of the training there will be a slight increase in GPU memory usage (~10%). This is due to the saving of the model correctly. Make sure to have enough memory left on your GPU to save the model. [REF](https://huggingface.co/docs/peft/v0.10.0/en/accelerate/fsdp#memory-usage)_\n",
    "\n",
    "We are going to use accelerate to distribute the training across multiple GPUs. Accelerate is a PyTorch library that makes it easier to write distributed PyTorch code. It provides a high-level API that abstracts away the complexity of distributed training. We created a [fsdp_qlora.yaml](./configs/fsdp_qlora.yaml) configuration file that contains the environment configuration for the training. Here you can change the number of GPUs (`num_processes`) or FSDP configuration. \n",
    "\n",
    "Now, lets launch the training with the following command:"
   ]
  },
  {
   "cell_type": "code",
   "execution_count": null,
   "metadata": {},
   "outputs": [],
   "source": [
    "## Run training via slurm script slurm | script | accelerate | config\n",
    "# sbatch --job-name=l31-405 slurm/hf.slurm scripts/run_fsdp_qlora.py configs/fsdp_qlora.yaml llama_31_405b_fsdp_qlora.yaml\n",
    "# Run training via terminal\n",
    "!HF_HUB_ENABLE_HF_TRANSFER=1 accelerate launch --config_file ./configs/fsdp_qlora.yaml --num_processes 8 ./scripts/run_fsdp_qlora.py --config llama_31_405b_fsdp_qlora.yaml"
   ]
  },
  {
   "cell_type": "code",
   "execution_count": null,
   "metadata": {},
   "outputs": [],
   "source": [
    "## Run training via slurm script slurm | script |  accelerate | config\n",
    "# sbatch --job-name=l31-405 slurm/hf.slurm scripts/run_fsdp_qlora.py configs/fsdp_qlora.yaml llama_31_405b_fsdp_qlora.yaml\n",
    "# Run training via terminal\n",
    "!HF_HUB_ENABLE_HF_TRANSFER=1  HF_HUB_CACHE=/scratch/.cache/ accelerate launch --config_file ./configs/fsdp_qlora.yaml --num_processes 8 ./scripts/run_fsdp_qlora.py --config llama_31_405b_fsdp_qlora.yaml"
   ]
  },
  {
   "attachments": {},
   "cell_type": "markdown",
   "metadata": {},
   "source": [
    "The training of Llama 3.1 405B with Flash Attention for 3 epochs with a dataset of 10k samples takes 3h on a `p5.48xlarge` (8x H100). The on-demand instance price is `$98.320/h` which would result in a total cost of `~300$`. "
   ]
  },
  {
   "cell_type": "markdown",
   "metadata": {},
   "source": [
    "### _Optional: Merge LoRA adapter in to the original model_\n",
    "\n",
    "When using QLoRA, we only train adapters and not the full model. This means when saving the model during training we only save the adapter weights and not the full model. If you want to save the full model, which makes it easier to use with Text Generation Inference you can merge the adapter weights into the model weights using the `merge_and_unload` method and then save the model with the `save_pretrained` method. This will save a default model, which can be used for inference.\n",
    "\n",
    "_Note: You might require > 800GB CPU Memory._"
   ]
  },
  {
   "cell_type": "code",
   "execution_count": null,
   "metadata": {},
   "outputs": [],
   "source": [
    "#### COMMENT IN TO MERGE PEFT AND BASE MODEL ####\n",
    "# from peft import AutoPeftModelForCausalLM\n",
    "\n",
    "# # Load PEFT model on CPU\n",
    "# model = AutoPeftModelForCausalLM.from_pretrained(\n",
    "#     args.output_dir,\n",
    "#     torch_dtype=torch.float16,\n",
    "#     low_cpu_mem_usage=True,\n",
    "# )  \n",
    "# # Merge LoRA and base model and save\n",
    "# merged_model = model.merge_and_unload()\n",
    "# merged_model.save_pretrained(args.output_dir,safe_serialization=True, max_shard_size=\"2GB\")"
   ]
  },
  {
   "attachments": {},
   "cell_type": "markdown",
   "metadata": {},
   "source": [
    "## 4. Test Model and run Inference\n",
    "\n",
    "After the training is done we want to evaluate and test our model. We will load different samples from the original dataset and evaluate the model manually. Evaluating Generative AI models is not a trivial task since 1 input can have multiple correct outputs. If you want to learn more about evaluating generative models, check out [Evaluate LLMs and RAG a practical example using Langchain and Hugging Face](https://www.philschmid.de/evaluate-llm) or [LLM Evaluation doesn't need to be complicated](https://www.philschmid.de/llm-evaluation) blog post."
   ]
  },
  {
   "cell_type": "code",
   "execution_count": null,
   "metadata": {},
   "outputs": [],
   "source": [
    "import torch\n",
    "from peft import AutoPeftModelForCausalLM\n",
    "from transformers import AutoTokenizer \n",
    "\n",
    "peft_model_id = \"./llama-31-405b-hf-no-robot\"\n",
    "\n",
    "# Load Model with PEFT adapter\n",
    "model = AutoPeftModelForCausalLM.from_pretrained(\n",
    "  peft_model_id,\n",
    "  torch_dtype=torch.float16,\n",
    "  quantization_config= {\"load_in_4bit\": True},\n",
    "  device_map=\"auto\"\n",
    ")\n",
    "tokenizer = AutoTokenizer.from_pretrained(peft_model_id)"
   ]
  },
  {
   "attachments": {},
   "cell_type": "markdown",
   "metadata": {},
   "source": [
    "Let’s load our test dataset try to generate an instruction."
   ]
  },
  {
   "cell_type": "code",
   "execution_count": null,
   "metadata": {},
   "outputs": [],
   "source": [
    "from datasets import load_dataset \n",
    "from random import randint\n",
    "\n",
    "\n",
    "# Load our test dataset\n",
    "eval_dataset = load_dataset(\"json\", data_files=\"test_dataset.json\", split=\"train\")\n",
    "rand_idx = randint(0, len(eval_dataset))\n",
    "messages = eval_dataset[rand_idx][\"messages\"][:2]\n",
    "\n",
    "# Test on sample \n",
    "input_ids = tokenizer.apply_chat_template(messages,add_generation_prompt=True,return_tensors=\"pt\").to(model.device)\n",
    "outputs = model.generate(\n",
    "    input_ids,\n",
    "    max_new_tokens=512,\n",
    "    eos_token_id= tokenizer.eos_token_id,\n",
    "    do_sample=True,\n",
    "    temperature=0.6,\n",
    "    top_p=0.9,\n",
    ")\n",
    "response = outputs[0][input_ids.shape[-1]:]\n",
    "\n",
    "print(f\"**Query:**\\n{eval_dataset[rand_idx]['messages'][1]['content']}\\n\")\n",
    "print(f\"**Original Answer:**\\n{eval_dataset[rand_idx]['messages'][2]['content']}\\n\")\n",
    "print(f\"**Generated Answer:**\\n{tokenizer.decode(response,skip_special_tokens=True)}\")\n",
    "\n",
    "# **Query:**\n",
    "# How long was the Revolutionary War?\n",
    "# **Original Answer:**\n",
    "# The American Revolutionary War lasted just over seven years. The war started on April 19, 1775, and ended on September 3, 1783. \n",
    "# **Generated Answer:**\n",
    "# The Revolutionary War, also known as the American Revolution, was an 18th-century war fought between the Kingdom of Great Britain and the Thirteen Colonies. The war lasted from 1775 to 1783."
   ]
  },
  {
   "cell_type": "markdown",
   "metadata": {},
   "source": [
    "That looks pretty good! 🚀 Now, its your turn! \n",
    "\n",
    "If you want to deploy your model into production check out [Deploy the LLM for Production](https://www.philschmid.de/fine-tune-llms-in-2024-with-trl#6-deploy-the-llm-for-production)."
   ]
  }
 ],
 "metadata": {
  "kernelspec": {
   "display_name": "Python 3 (ipykernel)",
   "language": "python",
   "name": "python3"
  },
  "language_info": {
   "codemirror_mode": {
    "name": "ipython",
    "version": 3
   },
   "file_extension": ".py",
   "mimetype": "text/x-python",
   "name": "python",
   "nbconvert_exporter": "python",
   "pygments_lexer": "ipython3",
   "version": "3.11.9"
  },
  "orig_nbformat": 4,
  "vscode": {
   "interpreter": {
    "hash": "2d58e898dde0263bc564c6968b04150abacfd33eed9b19aaa8e45c040360e146"
   }
  }
 },
 "nbformat": 4,
 "nbformat_minor": 2
}
